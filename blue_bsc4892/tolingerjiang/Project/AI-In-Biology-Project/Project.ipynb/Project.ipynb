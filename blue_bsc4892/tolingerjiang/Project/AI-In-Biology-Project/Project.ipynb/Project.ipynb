{
 "cells": [
  {
   "cell_type": "markdown",
   "id": "ab2c486a-b18c-4ffc-a07c-fcbb3652012f",
   "metadata": {},
   "source": [
    "### Introduction\n",
    "In this project we will create a model to analyze images of dogs and will output its guess of what breed it is.\n",
    "\n",
    "We are using a dataset with 70 dog breeds with ~100 images per breed.\n",
    "\n",
    "To create the model we used transfer learning with a variety of pretained models like: densenet, imagenet, ... then added new layers and fine tuning to make it work better for identifying dog breeds."
   ]
  },
  {
   "cell_type": "markdown",
   "id": "0ddd4abf-0c66-4616-8b71-edc9f6f4264d",
   "metadata": {},
   "source": [
    "### Data pre-processing"
   ]
  },
  {
   "cell_type": "markdown",
   "id": "aaf1489f-2104-4c46-a794-749fac4cccfc",
   "metadata": {},
   "source": [
    "### Model setup"
   ]
  },
  {
   "cell_type": "markdown",
   "id": "af3ddda2-5495-4a49-8ca9-86c1550956ee",
   "metadata": {},
   "source": [
    "### Hyperparameter tuning"
   ]
  },
  {
   "cell_type": "markdown",
   "id": "c6912c15-8771-422a-9757-48270cca438c",
   "metadata": {
    "tags": []
   },
   "source": [
    "### Results"
   ]
  },
  {
   "cell_type": "markdown",
   "id": "3ffd0520-d00d-4307-9ab8-81d89d451d39",
   "metadata": {},
   "source": [
    "### Discussion"
   ]
  },
  {
   "cell_type": "code",
   "execution_count": null,
   "id": "0157e3bc-525e-477f-8aa1-38deb09a4037",
   "metadata": {},
   "outputs": [],
   "source": []
  }
 ],
 "metadata": {
  "kernelspec": {
   "display_name": "Tensorflow-2.7.0",
   "language": "python",
   "name": "tensorflow-2.7.0"
  },
  "language_info": {
   "codemirror_mode": {
    "name": "ipython",
    "version": 3
   },
   "file_extension": ".py",
   "mimetype": "text/x-python",
   "name": "python",
   "nbconvert_exporter": "python",
   "pygments_lexer": "ipython3",
   "version": "3.9.12"
  }
 },
 "nbformat": 4,
 "nbformat_minor": 5
}
