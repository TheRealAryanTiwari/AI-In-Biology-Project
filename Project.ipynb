{
 "cells": [
  {
   "cell_type": "markdown",
   "id": "c7474f47-4dfb-4056-a556-2cbb31b8573d",
   "metadata": {},
   "source": [
    "### Introduction"
   ]
  },
  {
   "cell_type": "markdown",
   "id": "028f746a-d2b1-4ba4-ac47-9139531fedd6",
   "metadata": {},
   "source": [
    "In this project we will create a model to analyze images of dogs and will output its guess of what breed it is.\n",
    "\n",
    "We are using a dataset with 70 dog breeds with ~100 images per breed.\n",
    "\n",
    "To create the model we used transfer learning with a variety of pretained models like: densenet, imagenet, ... then added new layers and fine tuning to make it work better for identifying dog breeds."
   ]
  },
  {
   "cell_type": "markdown",
   "id": "0a3d6994-3839-4ad8-9fab-cf6935a4ae80",
   "metadata": {},
   "source": [
    "### Data pre-processing"
   ]
  },
  {
   "cell_type": "code",
   "execution_count": null,
   "id": "e3c7b07e-507b-4a20-af58-b56578384cf8",
   "metadata": {},
   "outputs": [],
   "source": []
  },
  {
   "cell_type": "markdown",
   "id": "e6145dc1-f56c-4081-be34-6d211ee180f1",
   "metadata": {},
   "source": [
    "### Model setup"
   ]
  },
  {
   "cell_type": "code",
   "execution_count": null,
   "id": "c1985e2a-d3e6-479f-a71e-a5ece8bc35ee",
   "metadata": {},
   "outputs": [],
   "source": []
  },
  {
   "cell_type": "markdown",
   "id": "23cbe48a-3d0c-4611-a022-83fcd8d7a0eb",
   "metadata": {},
   "source": [
    "### Hyperparameter tuning"
   ]
  },
  {
   "cell_type": "code",
   "execution_count": null,
   "id": "8b39d665-d36b-455a-b7bc-28407d7a565f",
   "metadata": {},
   "outputs": [],
   "source": []
  },
  {
   "cell_type": "markdown",
   "id": "921d8c50-8d79-419a-91b0-c5e3fc91ab29",
   "metadata": {
    "tags": []
   },
   "source": [
    "### Results"
   ]
  },
  {
   "cell_type": "code",
   "execution_count": null,
   "id": "9ce25e99-8956-4b10-bddc-a2b33510cf85",
   "metadata": {},
   "outputs": [],
   "source": []
  },
  {
   "cell_type": "markdown",
   "id": "61a6b078-71cc-48ad-99f9-ec89c3630fd5",
   "metadata": {},
   "source": [
    "### Discussion"
   ]
  },
  {
   "cell_type": "code",
   "execution_count": null,
   "id": "a6a1aaa3-88c0-4afc-bbf6-9082442f7a82",
   "metadata": {},
   "outputs": [],
   "source": []
  }
 ],
 "metadata": {
  "kernelspec": {
   "display_name": "Tensorflow-2.15",
   "language": "python",
   "name": "tensorflow-2.15"
  },
  "language_info": {
   "codemirror_mode": {
    "name": "ipython",
    "version": 3
   },
   "file_extension": ".py",
   "mimetype": "text/x-python",
   "name": "python",
   "nbconvert_exporter": "python",
   "pygments_lexer": "ipython3",
   "version": "3.11.5"
  }
 },
 "nbformat": 4,
 "nbformat_minor": 5
}
