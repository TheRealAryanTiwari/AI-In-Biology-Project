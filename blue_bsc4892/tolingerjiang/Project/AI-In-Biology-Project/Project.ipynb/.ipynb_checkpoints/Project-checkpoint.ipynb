{
 "cells": [
  {
   "cell_type": "markdown",
   "id": "cae8ca75",
   "metadata": {},
   "source": [
    "In this project we will create a model to analyze images of dogs and will output its guess of what breed it is.\n",
    "\n",
    "We are using a dataset with 70 dog breeds with ~100 images per breed.\n",
    "\n",
    "To create the model we used transfer learning with a variety of pretained models like: densenet, imagenet, ... then added new layers and fine tuning to make it work better for identifying dog breeds."
   ]
  },
  {
   "cell_type": "code",
   "execution_count": null,
   "id": "adb63413",
   "metadata": {},
   "outputs": [],
   "source": []
  },
  {
   "cell_type": "code",
   "execution_count": null,
   "id": "b98f5595",
   "metadata": {},
   "outputs": [],
   "source": []
  },
  {
   "cell_type": "code",
   "execution_count": null,
   "id": "a4c279b2",
   "metadata": {},
   "outputs": [],
   "source": []
  },
  {
   "cell_type": "code",
   "execution_count": null,
   "id": "c44e6035",
   "metadata": {},
   "outputs": [],
   "source": []
  },
  {
   "cell_type": "code",
   "execution_count": null,
   "id": "6524fab5",
   "metadata": {},
   "outputs": [],
   "source": []
  }
 ],
 "metadata": {},
 "nbformat": 4,
 "nbformat_minor": 5
}
