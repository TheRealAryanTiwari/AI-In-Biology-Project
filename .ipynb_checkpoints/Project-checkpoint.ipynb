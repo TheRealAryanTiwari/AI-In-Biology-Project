{
 "cells": [
  {
   "cell_type": "markdown",
   "id": "38fa0fea",
   "metadata": {},
   "source": [
    "In this project we will create a model to analyze images of dogs and will output its guess of what breed it is.\n",
    "\n",
    "We are using a dataset with 70 dog breeds with ~100 images per breed.\n",
    "\n",
    "To create the model we used transfer learning with a variety of pretained models like: densenet, imagenet, ... then added new layers and fine tuning to make it work better for identifying dog breeds."
   ]
  },
  {
   "cell_type": "code",
   "execution_count": null,
   "id": "5fd4c883",
   "metadata": {},
   "outputs": [],
   "source": []
  },
  {
   "cell_type": "code",
   "execution_count": null,
   "id": "74b06507",
   "metadata": {},
   "outputs": [],
   "source": []
  },
  {
   "cell_type": "code",
   "execution_count": null,
   "id": "1bf0950f",
   "metadata": {},
   "outputs": [],
   "source": []
  },
  {
   "cell_type": "code",
   "execution_count": null,
   "id": "048ad17e",
   "metadata": {},
   "outputs": [],
   "source": []
  },
  {
   "cell_type": "code",
   "execution_count": null,
   "id": "529d0768",
   "metadata": {},
   "outputs": [],
   "source": []
  }
 ],
 "metadata": {},
 "nbformat": 4,
 "nbformat_minor": 5
}
